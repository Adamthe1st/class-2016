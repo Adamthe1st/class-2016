{
 "cells": [
  {
   "cell_type": "markdown",
   "metadata": {},
   "source": [
    "Load the file and check the file has what we expected in terms structure and content"
   ]
  },
  {
   "cell_type": "code",
   "execution_count": 23,
   "metadata": {
    "collapsed": false
   },
   "outputs": [
    {
     "name": "stdout",
     "output_type": "stream",
     "text": [
      "Record Length,2.500000e+03,,  -0.000240000000,  -0.02400,\n",
      "\n",
      "['Record Length', '2.500000e+03', '', '  -0.000240000000', '  -0.02400', '\\n']\n",
      "['Sample Interval', '1.000000e-06', '', '  -0.000239000000', '  -0.02400', '\\n']\n"
     ]
    }
   ],
   "source": [
    "## File loading code\n",
    "\n",
    "file_name = \"TEK0000.CSV\" \n",
    "\n",
    "with open(file_name, 'r') as f:\n",
    "    \n",
    "    # We can use next() to get the next line of the file\n",
    "    line = f.next()\n",
    "    print(line)\n",
    "    \n",
    "    # The split function splits a line into a list, we are telling it to split between commas\n",
    "    \n",
    "    \n",
    "    line=line.split(\",\")\n",
    "    \n",
    "    print(line)\n",
    "    \n",
    "    \n",
    "    # Lets try check that the right parameters are present\n",
    "    assert line[0] == 'Record Length'\n",
    "    assert line[1] == '2.500000e+03'\n",
    "    \n",
    "    # To get the next line we again use next()\n",
    "    \n",
    "    line = f.next()\n",
    "    line=line.split(\",\")\n",
    "    print(line)\n",
    "    \n",
    "    # And we can start to check more data elements\n",
    "    assert line[0] == 'Sample Interval'\n",
    "    assert line[1] == '1.000000e-06'\n",
    "    \n",
    "    # If we need to read a certain number of lines before we get to the section we want we can use a for loop to go over them easily\n",
    "    for i in range(0,5):\n",
    "        line = f.next() # Reading five lines\n",
    "    "
   ]
  },
  {
   "cell_type": "markdown",
   "metadata": {},
   "source": []
  },
  {
   "cell_type": "code",
   "execution_count": 2,
   "metadata": {
    "collapsed": true
   },
   "outputs": [],
   "source": []
  },
  {
   "cell_type": "markdown",
   "metadata": {},
   "source": [
    "Loop over the data and look for minima amd maxima."
   ]
  },
  {
   "cell_type": "code",
   "execution_count": 4,
   "metadata": {
    "collapsed": true
   },
   "outputs": [],
   "source": [
    "#Code for recording each maxima and minimina along with time in a list (one list for mininma, one for maxima)"
   ]
  },
  {
   "cell_type": "markdown",
   "metadata": {},
   "source": [
    "Save the list of minima and maxima to a file"
   ]
  },
  {
   "cell_type": "code",
   "execution_count": null,
   "metadata": {
    "collapsed": true
   },
   "outputs": [],
   "source": [
    "# Code for saving each to file"
   ]
  },
  {
   "cell_type": "markdown",
   "metadata": {},
   "source": [
    "Plot time and value of peaks and troughs"
   ]
  },
  {
   "cell_type": "code",
   "execution_count": null,
   "metadata": {
    "collapsed": true
   },
   "outputs": [],
   "source": [
    "# Plotting code"
   ]
  }
 ],
 "metadata": {
  "kernelspec": {
   "display_name": "Python 2",
   "language": "python",
   "name": "python2"
  },
  "language_info": {
   "codemirror_mode": {
    "name": "ipython",
    "version": 2
   },
   "file_extension": ".py",
   "mimetype": "text/x-python",
   "name": "python",
   "nbconvert_exporter": "python",
   "pygments_lexer": "ipython2",
   "version": "2.7.10"
  },
  "nav_menu": {},
  "toc": {
   "navigate_menu": true,
   "number_sections": true,
   "sideBar": true,
   "threshold": 6,
   "toc_cell": false,
   "toc_section_display": "block",
   "toc_window_display": true
  },
  "widgets": {
   "state": {},
   "version": "1.1.2"
  }
 },
 "nbformat": 4,
 "nbformat_minor": 0
}
